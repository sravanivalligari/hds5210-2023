{
  "cells": [
    {
      "cell_type": "markdown",
      "metadata": {
        "id": "view-in-github",
        "colab_type": "text"
      },
      "source": [
        "<a href=\"https://colab.research.google.com/github/sravanivalligari/hds5210-2023/blob/main/week07/week07_assignment_2.ipynb\" target=\"_parent\"><img src=\"https://colab.research.google.com/assets/colab-badge.svg\" alt=\"Open In Colab\"/></a>"
      ]
    },
    {
      "cell_type": "markdown",
      "metadata": {
        "id": "qCxL9714vdri"
      },
      "source": [
        "# Week 7 Assignment\n",
        "\n",
        "We've been working with different types of data structures in Python (dictionary, list, etc), how those are represented in JSON documents, and how to write code to access specific data elements. In this week's assignment, you will need to create your own JSON document to store information about yourself and the grades you've received from week 1 to week 4 and the week 6 quiz.  That is, everything you should have received a grade for.  Then you'll need to show me you know how to navigate the JSON in that file.\n",
        "\n",
        "Different from what we've done in the past, you do not have to write any functions or include any docstrings.  Just create some JSON and write some code.\n",
        "\n",
        "---"
      ]
    },
    {
      "cell_type": "markdown",
      "metadata": {
        "id": "tOSKNa07vdrq"
      },
      "source": [
        "## 7.1 Create a JSON string\n",
        "\n",
        "Create a JSON string that contains your name, email, year you were born, all of the grades you've received back so far, and a comment about what you thought was most challenging on each of those assignments.  This can be any structure you choose, but make sure it uses a dictionary and a list, and has at least two levels of hierarchy.  That is, it can't just be one big long list."
      ]
    },
    {
      "cell_type": "markdown",
      "metadata": {
        "id": "dW9Av262vdrr"
      },
      "source": [
        "First, explain how your data structure is going to look..."
      ]
    },
    {
      "cell_type": "markdown",
      "metadata": {
        "id": "w8hFX4FBvdrs"
      },
      "source": [
        "This is a sample data structure of my JSON file.\n",
        "\n",
        "name: Sravani Valligari\n",
        "\n",
        "email: sravani.valligari@slu.edu\n",
        "\n",
        "year_born: 2000\n",
        "\n",
        "grades: This contains a list of dictionaries, where each dictionary holds information for each of my assignment.\n",
        "\n",
        "Each dictionary in the list will contain:\n",
        "\n",
        "week: An integer to represent the week number of the assignment\n",
        "\n",
        "grade: A float to represent the grade I received.\n",
        "\n",
        "comment: A string to describe what I found most challenging about each assignment.\n",
        "\n",
        "This is the sample hierarchy of how my JSON file look like:\n",
        "\n",
        "    {\n",
        "    \"name\": \"Sravani Valligari\",\n",
        "    \"email\": \"sravani.valligari@slu.edu\",\n",
        "    \"year_born\": 2000,\n",
        "    \"grades\": [\n",
        "    {\n",
        "      \"week\": 1,\n",
        "      \"grade\": 5,\n",
        "      \"comment\": \"No major difficulties\"\n",
        "    },\n",
        "    // More grade dictionaries here...\n",
        "    ]\n",
        "    }\n"
      ]
    },
    {
      "cell_type": "markdown",
      "metadata": {
        "id": "9YfkyizWvdrs"
      },
      "source": [
        "Then put the actual JSON you've created inside the multiline string below..."
      ]
    },
    {
      "cell_type": "code",
      "execution_count": 7,
      "metadata": {
        "id": "nfIABIQVvdrt"
      },
      "outputs": [],
      "source": [
        "#This is the JSON file that contains my information\n",
        "\n",
        "hds5210 = \"\"\"\n",
        "{\n",
        "  \"name\": \"Sravani Valligari\",\n",
        "  \"email\": \"sravani.valligari@slu.edu\",\n",
        "  \"year_born\": 2000,\n",
        "  \"grades\": [\n",
        "    {\n",
        "      \"week\": 1,\n",
        "      \"grade\": 5,\n",
        "      \"comment\": \"No major difficulties.\"\n",
        "    },\n",
        "    {\n",
        "      \"week\": 2,\n",
        "      \"grade\": 19,\n",
        "      \"comment\": \"I was never a good math person. It was tricky implementing mathamatical methods in the code\"\n",
        "    },\n",
        "    {\n",
        "      \"week\": 3,\n",
        "      \"grade\": 19.5,\n",
        "      \"comment\": \"Understanding the using of LACE score was challenging\"\n",
        "    },\n",
        "    {\n",
        "      \"week\": 4,\n",
        "      \"grade\": 12,\n",
        "      \"comment\": \"Working with lists was a bit tricky. Mainly when converting from dictionary to lists\"\n",
        "    },\n",
        "    {\n",
        "      \"week\": 5,\n",
        "      \"grade\": 5,\n",
        "      \"comment\": \"I have found it difficult to understand how to write the doc-strings and Pseudo-code for the functions\"\n",
        "    }\n",
        "  ]\n",
        "}\n",
        "\"\"\"\n"
      ]
    },
    {
      "cell_type": "markdown",
      "metadata": {
        "id": "v85cMVidvdrv"
      },
      "source": [
        "## 7.2 Do something with your JSON\n",
        "\n",
        "Now use Python code to do something with the Json above.  Turn it into English text, but make sure that you use at least one loop to access some dict or list content of your JSON.  Below, I've provided some basic code to read in the string above as JSON and return a Python object.  Your job is to work with that data structure and print out the important information like your name, email, and how you did on each assignment."
      ]
    },
    {
      "cell_type": "code",
      "source": [
        "#This is the Pseudocode of the below code that exaplains step by step of how the script works\n",
        "\n",
        "#1. Importing the json module which allows us to use methods for JSON serialization and parsing\n",
        "#import json\n",
        "\n",
        "#2. Converting the JSON-formatted string hds5210 to a Python dictionary object.\n",
        "#info = json.loads(hds5210)\n",
        "\n",
        "#3. Retrieving my name and email from the info dictionary, and also find the number of grades recorded.\n",
        "#me = info[\"name\"]\n",
        "#my_email = info[\"email\"]\n",
        "#grades_received = len(info[\"grades\"])\n",
        "\n",
        "#4. Creating an empty list called grades_and_comments that will store my grades and comments for each week.\n",
        "#grades_and_comments = []\n",
        "\n",
        "#5. Extracting the week, grade, and comment from each dictionary in info['grades'].\n",
        "#Appending formatted string to the grades_and_comments list.\n",
        "#for grade_info in info['grades']:\n",
        "#week = grade_info['week']\n",
        "#grade = grade_info['grade']\n",
        "#comment = grade_info['comment']\n",
        "#grades_and_comments.append(f\"Week {week}: Grade {grade}. Comment: '{comment}'\")\n",
        "\n",
        "#6. Printing stored name, email, and number of grades received.\n",
        "#print(f\"Hi, my name is {me}. My email is {my_email}. I've received grades for {grades_received} weeks.\")\n",
        "\n",
        "#7. Printing an introductory sentence for grades and comments.\n",
        "#print(\"The grades and comments for each week are as follows:\")\n",
        "\n",
        "#8. Iterating through each item in grades_and_comments to print it line by line.\n",
        "#for item in grades_and_comments:\n",
        "#print(item)"
      ],
      "metadata": {
        "id": "UXGoC72j0VoU"
      },
      "execution_count": 8,
      "outputs": []
    },
    {
      "cell_type": "code",
      "execution_count": 9,
      "metadata": {
        "id": "etyoqh2Zvdrw",
        "outputId": "45254143-8ff6-4d6d-f827-0ca1f18ce1de",
        "colab": {
          "base_uri": "https://localhost:8080/"
        }
      },
      "outputs": [
        {
          "output_type": "stream",
          "name": "stdout",
          "text": [
            "Hi, my name is Sravani Valligari. My email is sravani.valligari@slu.edu. I've received grades for 5 weeks.\n",
            "The grades and comments for each week are as follows:\n",
            "Week 1: Grade 5. Comment: 'No major difficulties.'\n",
            "Week 2: Grade 19. Comment: 'I was never a good math person. It was tricky implementing mathamatical methods in the code'\n",
            "Week 3: Grade 19.5. Comment: 'Understanding the using of LACE score was challenging'\n",
            "Week 4: Grade 12. Comment: 'Working with lists was a bit tricky. Mainly when converting from dictionary to lists'\n",
            "Week 5: Grade 5. Comment: 'I have found it difficult to understand how to write the doc-strings and Pseudo-code for the functions'\n"
          ]
        }
      ],
      "source": [
        "import json\n",
        "\n",
        "# Parse the JSON string to a Python object\n",
        "info = json.loads(hds5210)\n",
        "\n",
        "# Extract and store your own information\n",
        "me = info[\"name\"]\n",
        "my_email = info[\"email\"]\n",
        "grades_received = len(info[\"grades\"])\n",
        "\n",
        "# Initialize the grades and comments list\n",
        "grades_and_comments = []\n",
        "\n",
        "# Loop through the grades and comments\n",
        "for grade_info in info['grades']:\n",
        "    week = grade_info['week']\n",
        "    grade = grade_info['grade']\n",
        "    comment = grade_info['comment']\n",
        "    grades_and_comments.append(f\"Week {week}: Grade {grade}. Comment: '{comment}'\")\n",
        "\n",
        "# Print your information in the desired format\n",
        "print(f\"Hi, my name is {me}. My email is {my_email}. I've received grades for {grades_received} weeks.\")\n",
        "\n",
        "# Print the grades and comments line by line\n",
        "print(\"The grades and comments for each week are as follows:\")\n",
        "for item in grades_and_comments:\n",
        "    print(item)\n"
      ]
    },
    {
      "cell_type": "markdown",
      "metadata": {
        "id": "L75zdIgxvdrx"
      },
      "source": [
        "## 7.3 Reflect\n",
        "\n",
        "Write a paragraph on any reflections you have. Was this hard? Easy?  What parts were most challenging or easiest? What did you like or dislike about the assignment?  Share whatever important thoughts you have abou this assignment."
      ]
    },
    {
      "cell_type": "markdown",
      "metadata": {
        "id": "PcHrbardvdry"
      },
      "source": [
        "* Put your response here\n",
        "\n",
        "I found the assignment pretty balanced; not too hard, not too easy. The part where I had to structure the JSON string was a bit tricky, but Python made it simple to convert it back into English text. I liked that it felt like a real-world task. Overall, a good learning experience."
      ]
    },
    {
      "cell_type": "markdown",
      "metadata": {
        "id": "BL6rWGAXvdrz"
      },
      "source": [
        "---\n",
        "\n",
        "# Example\n",
        "\n",
        "Below is an example of something similar, but this uses information my and my friend's kids instead of grades."
      ]
    },
    {
      "cell_type": "code",
      "execution_count": 4,
      "metadata": {
        "id": "EEGOtCOmvdrz",
        "outputId": "74a3f57a-8f51-4d4d-df77-79afc2792874",
        "colab": {
          "base_uri": "https://localhost:8080/"
        }
      },
      "outputs": [
        {
          "output_type": "stream",
          "name": "stdout",
          "text": [
            "Hi, my name is Paul. I've got 3 kids. Their names are Ellie, Ada, Teddy.\n",
            "My friend, Anny has 1 kids. That's fewer than me. Their names are 1\n"
          ]
        }
      ],
      "source": [
        "hds5210 = \"\"\"\n",
        "{\n",
        "    \"me\": {\n",
        "        \"name\": \"Paul\",\n",
        "        \"kids\": [\"Ellie\", \"Ada\", \"Teddy\"]\n",
        "    },\n",
        "    \"friend\": {\n",
        "        \"name\": \"Anny\",\n",
        "        \"kids\": [\"Abby\"]\n",
        "    }\n",
        "}\n",
        "\"\"\"\n",
        "\n",
        "import json\n",
        "\n",
        "info = json.loads(hds5210)\n",
        "\n",
        "me = info[\"me\"][\"name\"]\n",
        "my_kids_count = len(info[\"me\"][\"kids\"])\n",
        "kids_list = \", \".join(info[\"me\"][\"kids\"])\n",
        "friend = info[\"friend\"][\"name\"]\n",
        "friends_kid_count = len(info[\"friend\"][\"kids\"])\n",
        "friend_kids = \", \".join(info[\"friend\"][\"kids\"])\n",
        "compare = \"more\" if friends_kid_count > my_kids_count else \"fewer\"\n",
        "\n",
        "print(f\"Hi, my name is {me}. I've got {my_kids_count} kids. Their names are {kids_list}.\")\n",
        "print(f\"My friend, {friend} has {friends_kid_count} kids. That's {compare} than me. Their names are {friends_kid_count}\")"
      ]
    },
    {
      "cell_type": "code",
      "source": [],
      "metadata": {
        "id": "0P6gWIjLzjNV"
      },
      "execution_count": null,
      "outputs": []
    }
  ],
  "metadata": {
    "kernelspec": {
      "display_name": "Python 3",
      "language": "python",
      "name": "python3"
    },
    "language_info": {
      "codemirror_mode": {
        "name": "ipython",
        "version": 3
      },
      "file_extension": ".py",
      "mimetype": "text/x-python",
      "name": "python",
      "nbconvert_exporter": "python",
      "pygments_lexer": "ipython3",
      "version": "3.9.16"
    },
    "colab": {
      "provenance": [],
      "include_colab_link": true
    }
  },
  "nbformat": 4,
  "nbformat_minor": 0
}