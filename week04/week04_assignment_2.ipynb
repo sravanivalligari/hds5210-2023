{
  "cells": [
    {
      "cell_type": "markdown",
      "metadata": {
        "id": "view-in-github",
        "colab_type": "text"
      },
      "source": [
        "<a href=\"https://colab.research.google.com/github/sravanivalligari/hds5210-2023/blob/main/week04/week04_assignment_2.ipynb\" target=\"_parent\"><img src=\"https://colab.research.google.com/assets/colab-badge.svg\" alt=\"Open In Colab\"/></a>"
      ]
    },
    {
      "cell_type": "markdown",
      "metadata": {
        "nbgrader": {
          "grade": false,
          "grade_id": "intro",
          "locked": true,
          "schema_version": 1,
          "solution": false
        },
        "id": "klVFswhcFVDG"
      },
      "source": [
        "# Week 4 Exercises\n",
        "\n",
        "See: _McKinney 3.1_ and [Python Documentation](https://docs.python.org/3/tutorial/datastructures.html) section 5 on data structures.\n",
        "\n",
        "Modules 13 through 15 have all been about different built-in data types that can be used to create larger and more complex data structures.  We learned about tuples, lists, dictionaries, and how to access and process that data in new ways.\n",
        "\n",
        "**At the begining of the semester, all of the workshop programming exercises will be structured a specific way to make it easier to verify for yourself that you're on the right track as well as easier for me to do a first pass on automated grading.  The structure of each question will require you to write a function using Python code. Don't worry that we haven't talked about functions yet. Just edit the code between** `### BEGIN SOLUTION` and `### END SOLUTION` **as shown in the example below.**\n"
      ]
    },
    {
      "cell_type": "markdown",
      "metadata": {
        "id": "F5IiMu83FVDJ"
      },
      "source": [
        "**WHAT I PROVIDE:**\n",
        "```\n",
        "def some_function(parameter1, parameter2):\n",
        "\n",
        "   ### BEGIN SOLUTION\n",
        "   x = -1\n",
        "   ### END SOLUTION\n",
        "   \n",
        "   return x\n",
        "```\n",
        "\n",
        "**WHAT YOU SHOULD DO:** Just change the parameter names (if you feel you need to) and the calculations between `### BEGIN SOLUTION` and `### END SOLUTION`.  This is just a made up example.\n",
        "```\n",
        "def some_function(a, b):\n",
        "\n",
        "   ### BEGIN SOLUTION\n",
        "   temp = a + b\n",
        "   x = temp / a * b\n",
        "   ### END SOLUTION\n",
        "   \n",
        "   return x\n",
        "```\n"
      ]
    },
    {
      "cell_type": "markdown",
      "metadata": {
        "id": "PSAhnTtVFVDJ"
      },
      "source": [
        "---\n",
        "---\n",
        "\n",
        "**Below each programming exercise are some tests (`assertions`) that verify your code is working correctly.  If any assertions fail, you know that something isnt' right with your code, but having all assertions pass doesn't necessarily mean your code is perfect, yet. You should also create your own tests to make sure your code is correct.**\n",
        "\n",
        "**For now, please don't change any function names**"
      ]
    },
    {
      "cell_type": "markdown",
      "metadata": {
        "id": "L_oNoovrFVDJ"
      },
      "source": [
        "### 20.1 Create a sorted list of names\n",
        "\n",
        "Take the list of names below (some are first and last, others are first, middle, and last) and produce a final list of full names.\n",
        "\n",
        "```\n",
        "sort_names([\n",
        "  ['Paul', 'Boal'],\n",
        "  ['Kermit','the','Frog'],\n",
        "  ['Donald','Duck']])\n",
        "\n",
        "['Paul Boal', 'Donald Duck', 'Kermit the Frog']\n",
        "```"
      ]
    },
    {
      "cell_type": "markdown",
      "metadata": {
        "id": "jzqoTy2WFVDK"
      },
      "source": [
        "**Tip:** If you have a list of lists and want to sort it, Python can do that. It will simply sort using the first item in each of the lists inside your list."
      ]
    },
    {
      "cell_type": "code",
      "execution_count": 1,
      "metadata": {
        "id": "Lper0UyGFVDK"
      },
      "outputs": [],
      "source": [
        "names = [['Paul', 'Boal'],\n",
        "  ['Kermit','the','Frog'],\n",
        "  ['Donald','Duck']]"
      ]
    },
    {
      "cell_type": "code",
      "execution_count": 2,
      "metadata": {
        "id": "dSV0BEEgFVDL"
      },
      "outputs": [],
      "source": [
        "def name_sorter(name_list):\n",
        "    # Concatenate the individual name components into full names\n",
        "    full_names = [' '.join(name) for name in name_list]\n",
        "\n",
        "    # Sort the list of full names\n",
        "    sorted_names = sorted(full_names)\n",
        "\n",
        "    return sorted_names"
      ]
    },
    {
      "cell_type": "code",
      "execution_count": 3,
      "metadata": {
        "id": "5v4lAhW8FVDL"
      },
      "outputs": [],
      "source": [
        "names = [['Paul', 'Boal'],\n",
        "  ['Kermit','the','Frog'],\n",
        "  ['Donald','Duck']]\n",
        "\n",
        "assert name_sorter(names) == [\"Donald Duck\", \"Kermit the Frog\", \"Paul Boal\"]"
      ]
    },
    {
      "cell_type": "markdown",
      "metadata": {
        "id": "Et9Eg_2UFVDL"
      },
      "source": [
        "### 20.2 Convert a dictionary to a list\n",
        "\n",
        "In this exercise, we're going to take a dictionary that has families and their names, and convert that into a list of names.  The dictionary is structured such that the key is the family name, and the value for that key is a list of first names.\n",
        "\n",
        "```\n",
        "{\n",
        "  'Boal': ['Paul', 'Anny', 'Jim'],\n",
        "  'Lester-Boal': ['Ellie', 'Ada', 'Teddy'],\n",
        "  'Lester': ['Sarahlynn', 'Jessica', 'Grace', 'Carolynn']\n",
        "}\n",
        "\n",
        "[['Boal', 'Paul'],\n",
        " ['Boal', 'Anny'],\n",
        " ['Boal', 'Jim'],\n",
        " ['Lester-Boal', 'Elliie'],\n",
        " ['Lester-Boal', 'Ada'],\n",
        " ...\n",
        "```"
      ]
    },
    {
      "cell_type": "code",
      "execution_count": 4,
      "metadata": {
        "id": "0OswHpI5FVDM"
      },
      "outputs": [],
      "source": [
        "def dict_to_list(families):\n",
        "    output = []\n",
        "    for family, first_names in families.items():\n",
        "        for first_name in first_names:\n",
        "            full_name = f\"{first_name} {family}\"\n",
        "            output.append(full_name)\n",
        "    return output"
      ]
    },
    {
      "cell_type": "code",
      "execution_count": 5,
      "metadata": {
        "id": "KN8PFkigFVDM",
        "outputId": "1360a1dc-c0f4-423f-e67a-3a87d40771ae",
        "colab": {
          "base_uri": "https://localhost:8080/"
        }
      },
      "outputs": [
        {
          "output_type": "execute_result",
          "data": {
            "text/plain": [
              "['Hewey Duck', 'Dewey Duck', 'Louie Duck', 'Mickey Mouse', 'Minney Mouse']"
            ]
          },
          "metadata": {},
          "execution_count": 5
        }
      ],
      "source": [
        "families = {\n",
        "  'Boal': ['Paul', 'Anny', 'Jim'],\n",
        "  'Lester-Boal': ['Ellie', 'Ada', 'Teddy'],\n",
        "  'Lester': ['Sarahlynn', 'Jessica', 'Grace', 'Carolynn']\n",
        "}\n",
        "\n",
        "dict_to_list({'Duck': ['Hewey','Dewey','Louie'],\n",
        "              'Mouse': ['Mickey','Minney']})"
      ]
    },
    {
      "cell_type": "markdown",
      "metadata": {
        "nbgrader": {
          "grade": false,
          "grade_id": "average",
          "locked": true,
          "schema_version": 1,
          "solution": false
        },
        "id": "L7fxrgLzFVDM"
      },
      "source": [
        "### 20.3 Convert a list to a dictionary\n",
        "\n",
        "Take the list of lists below and convert it into a dictionary where the entries in the dictionary are keyed off of whatever values are in column 0, and the dictionary values are the list of all the values that appear with that key from the input list."
      ]
    },
    {
      "cell_type": "code",
      "execution_count": 6,
      "metadata": {
        "nbgrader": {
          "grade": false,
          "grade_id": "average-answer",
          "locked": false,
          "schema_version": 1,
          "solution": true
        },
        "id": "ABGY1Hf_FVDM"
      },
      "outputs": [],
      "source": [
        "def list_to_dict():\n",
        "    names = [['Boal', 'Paul'],\n",
        "             ['Duck', 'Donald'],\n",
        "             ['Duck', 'Daisy'],\n",
        "             ['Boal', 'Ada'],\n",
        "             ['Boal', 'Teddy'],\n",
        "             ['Westhus', 'Eric']]\n",
        "\n",
        "    families = {}\n",
        "\n",
        "    for name in names:\n",
        "        family, first_name = name[0], name[1]\n",
        "\n",
        "        if family in families:\n",
        "            families[family].append(first_name)\n",
        "        else:\n",
        "            families[family] = [first_name]\n",
        "\n",
        "    return families"
      ]
    },
    {
      "cell_type": "code",
      "execution_count": 7,
      "metadata": {
        "id": "9NLLSOzVFVDO",
        "outputId": "715d6ae9-8470-450f-b43e-2eb7b7c6e001",
        "colab": {
          "base_uri": "https://localhost:8080/"
        }
      },
      "outputs": [
        {
          "output_type": "execute_result",
          "data": {
            "text/plain": [
              "{'Boal': ['Paul', 'Ada', 'Teddy'],\n",
              " 'Duck': ['Donald', 'Daisy'],\n",
              " 'Westhus': ['Eric']}"
            ]
          },
          "metadata": {},
          "execution_count": 7
        }
      ],
      "source": [
        "list_to_dict()"
      ]
    },
    {
      "cell_type": "code",
      "execution_count": 8,
      "metadata": {
        "nbgrader": {
          "grade": true,
          "grade_id": "average-tests",
          "locked": true,
          "points": 5,
          "schema_version": 1,
          "solution": false
        },
        "id": "PvpiZvDZFVDO"
      },
      "outputs": [],
      "source": [
        "answer = {\n",
        " 'Boal':    ['Paul', 'Ada', 'Teddy'],\n",
        " 'Duck':    ['Donald', 'Daisy'],\n",
        " 'Westhus': ['Eric']\n",
        "}\n",
        "\n",
        "assert (list_to_dict() == answer)"
      ]
    },
    {
      "cell_type": "markdown",
      "metadata": {
        "id": "dlpxZiHcFVDO"
      },
      "source": [
        "### 20.4 Join using a dictionary\n",
        "\n",
        "We have a list of patients, diagnosis, and length of stay.  We also have a dictionary that contains diagnosis and average length of stay.  Produce an output list that lists the patient and an indicator if the patient's stay was 'too long', 'too short', 'just right'"
      ]
    },
    {
      "cell_type": "code",
      "execution_count": 9,
      "metadata": {
        "nbgrader": {
          "grade": false,
          "grade_id": "cell-f3813e33810dc898",
          "locked": false,
          "schema_version": 1,
          "solution": true
        },
        "id": "ybs8Rlj4FVDO"
      },
      "outputs": [],
      "source": [
        "def patient_los(avg_los, patients):\n",
        "    conclusions = []\n",
        "\n",
        "    for patient in patients:\n",
        "        name, diagnosis, los = patient\n",
        "\n",
        "        avg = avg_los.get(diagnosis, None)\n",
        "\n",
        "        if avg is not None:\n",
        "            if los > avg:\n",
        "                conclusion = 'too long'\n",
        "            elif los < avg:\n",
        "                conclusion = 'too short'\n",
        "            else:\n",
        "                conclusion = 'just right'\n",
        "\n",
        "            conclusions.append([name, conclusion])\n",
        "\n",
        "    return conclusions"
      ]
    },
    {
      "cell_type": "code",
      "execution_count": 10,
      "metadata": {
        "id": "QCe4OYQkFVDO",
        "outputId": "e057f04e-0d6f-46b0-e460-a8b843f674f9",
        "colab": {
          "base_uri": "https://localhost:8080/"
        }
      },
      "outputs": [
        {
          "output_type": "execute_result",
          "data": {
            "text/plain": [
              "[['Boal', 'too short'],\n",
              " ['Boal', 'too long'],\n",
              " ['Jones', 'just right'],\n",
              " ['Ashbury', 'too short']]"
            ]
          },
          "metadata": {},
          "execution_count": 10
        }
      ],
      "source": [
        "avg_los = {\n",
        "    \"Hemolytic jaundice and perinatal jaundice\" : 2,\n",
        "    \"Medical examination/evaluation\" : 3.2,\n",
        "    \"Liveborn\" : 3.2,\n",
        "    \"Trauma to perineum and vulva\" : 2.1,\n",
        "    \"Normal pregnancy and/or delivery\" : 2,\n",
        "    \"Umbilical cord complication\" : 2.1,\n",
        "    \"Forceps delivery\" : 2.2,\n",
        "    \"Administrative/social admission\" : 4.2,\n",
        "    \"Prolonged pregnancy\" : 2.4,\n",
        "    \"Other complications of pregnancy\" : 2.5\n",
        "}\n",
        "\n",
        "patients = [\n",
        "    ['Boal', 'Medical examination/evaluation', 1.1],\n",
        "    ['Boal', 'Other complications of pregnancy', 3.3],\n",
        "    ['Jones', 'Liveborn', 3.2],\n",
        "    ['Ashbury', 'Forceps delivery', 2.0]\n",
        "]\n",
        "\n",
        "patient_los(avg_los, patients)"
      ]
    },
    {
      "cell_type": "code",
      "execution_count": 11,
      "metadata": {
        "nbgrader": {
          "grade": true,
          "grade_id": "cell-2af0a520bb56ee21",
          "locked": true,
          "points": 10,
          "schema_version": 1,
          "solution": false
        },
        "id": "FG38DuLwFVDO"
      },
      "outputs": [],
      "source": [
        "conclusions = [['Boal', 'too short'],\n",
        "    ['Boal', 'too long'],\n",
        "    ['Jones', 'just right'],\n",
        "    ['Ashbury', 'too short']]\n",
        "\n",
        "assert(patient_los(avg_los, patients) == conclusions)"
      ]
    },
    {
      "cell_type": "markdown",
      "metadata": {
        "id": "kEswmF2vFVDO"
      },
      "source": [
        "---\n",
        "\n",
        "## Check your work above\n",
        "\n",
        "If you didn't get them all correct, take a few minutes to think through those that aren't correct.\n",
        "\n",
        "\n",
        "## Submitting Your Work\n",
        "\n",
        "In order to submit your work, you'll need to save this notebook file back to GitHub.  To do that in Google Colab:\n",
        "1. File -> Save a Copy in GitHub\n",
        "2. Make sure your HDS5210 repository is selected\n",
        "3. Make sure the file name includes the week number like this: `week04/week04_assignment_2.ipynb`\n",
        "4. Add a commit message that means something\n",
        "\n",
        "**Be sure week names are lowercase and use a two digit week number!!**\n",
        "\n",
        "**Be sure you use the same file name provided by the instructor!!**\n",
        "\n"
      ]
    },
    {
      "cell_type": "markdown",
      "metadata": {
        "id": "j4X4gHMAFVDO"
      },
      "source": []
    }
  ],
  "metadata": {
    "celltoolbar": "Create Assignment",
    "kernelspec": {
      "display_name": "Python 3",
      "language": "python",
      "name": "python3"
    },
    "language_info": {
      "codemirror_mode": {
        "name": "ipython",
        "version": 3
      },
      "file_extension": ".py",
      "mimetype": "text/x-python",
      "name": "python",
      "nbconvert_exporter": "python",
      "pygments_lexer": "ipython3",
      "version": "3.6.7"
    },
    "colab": {
      "provenance": [],
      "include_colab_link": true
    }
  },
  "nbformat": 4,
  "nbformat_minor": 0
}