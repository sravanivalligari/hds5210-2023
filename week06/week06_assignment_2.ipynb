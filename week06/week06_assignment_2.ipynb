{
  "cells": [
    {
      "cell_type": "markdown",
      "metadata": {
        "id": "view-in-github",
        "colab_type": "text"
      },
      "source": [
        "<a href=\"https://colab.research.google.com/github/sravanivalligari/hds5210-2023/blob/main/week06/week06_assignment_2.ipynb\" target=\"_parent\"><img src=\"https://colab.research.google.com/assets/colab-badge.svg\" alt=\"Open In Colab\"/></a>"
      ]
    },
    {
      "cell_type": "markdown",
      "metadata": {
        "nbgrader": {
          "grade": false,
          "grade_id": "intro",
          "locked": true,
          "schema_version": 1,
          "solution": false
        },
        "id": "MF28YsxAAdMs"
      },
      "source": [
        "# Week 6 Exercises\n",
        "\n",
        "_McKinney 6.1_\n",
        "\n",
        "There are multiple ways to solve the problems below.  You can use any one of several approaches.  For example, you can read CSV files using Pandas or the csv module.  Your score won't depend on which modules you choose to use unless explicitly noted below, but your programming style will still matter."
      ]
    },
    {
      "cell_type": "markdown",
      "metadata": {
        "nbgrader": {
          "grade": false,
          "grade_id": "q1-description",
          "locked": true,
          "schema_version": 1,
          "solution": false
        },
        "id": "5WjsKVZSAdMt"
      },
      "source": [
        "### 30.1 List of Allergies\n",
        "\n",
        "In this GitHub repository, there is a file called `allergies.json` that contains a list of patient allergies.  You will need to download this [file from here](https://raw.githubusercontent.com/paulboal/hds5210-2023/main/week06/allergies.json) and then upload it into Google Colab to run these examples. It is taken from sample data provided by the EHR vendor, Epic, here: https://open.epic.com/Clinical/Allergy\n",
        "\n",
        "Take some time to look at the structure of the file.  You can open it directly in Jupyter by clicking the _Home_ icon, then the _from_instructor_ folder, and then the _data_ folder.\n",
        "\n",
        "Within the file, you'll see that it is a dictionary with many items in it.  One of those items is called `entry` and that item is a list of things.  You can tell that because the item name is immediately followed by an opening square bracket, signifying the start of a list.  It's line 11 of the file: `  \"entry\": [`\n",
        "\n",
        "Write a function named `allergy_count(json_file)` that takes as one parameter the name of the JSON file and returns an integer number of entries in that file.  Your function should open the file, read the json into a Python object, and return how many items there are in the list of `entry`s."
      ]
    },
    {
      "cell_type": "code",
      "execution_count": 3,
      "metadata": {
        "id": "x8SEtWP3AdMt"
      },
      "outputs": [],
      "source": [
        "import json\n",
        "ALLERGIES_FILE=\"allergies.json\""
      ]
    },
    {
      "cell_type": "code",
      "execution_count": 4,
      "metadata": {
        "nbgrader": {
          "grade": false,
          "grade_id": "q1-answer",
          "locked": false,
          "schema_version": 1,
          "solution": true
        },
        "id": "KsjwLjSlAdMt",
        "outputId": "f633f09d-529a-4321-eba6-2bd4afbe5793",
        "colab": {
          "base_uri": "https://localhost:8080/"
        }
      },
      "outputs": [
        {
          "output_type": "stream",
          "name": "stdout",
          "text": [
            "4\n"
          ]
        }
      ],
      "source": [
        "# Put your solution here\n",
        "import json\n",
        "\n",
        "def allergy_count(json_file):\n",
        "    with open(json_file, 'r') as file:\n",
        "        data = json.load(file)  # Load the JSON content into a Python dictionary\n",
        "        return len(data[\"entry\"])  # Return the count of items in the \"entry\" list\n",
        "\n",
        "ALLERGIES_FILE = \"allergies.json\"\n",
        "\n",
        "# Testing the function\n",
        "print(allergy_count(ALLERGIES_FILE))  # This should print the number of items in the \"entry\" list\n",
        "\n",
        "# Given assertions for further validation\n",
        "assert type(allergy_count(ALLERGIES_FILE)) == int\n",
        "assert allergy_count(ALLERGIES_FILE) == 4\n"
      ]
    },
    {
      "cell_type": "markdown",
      "source": [
        "Type of Data for Input and Output:\n",
        "\n",
        "Input: A string representing the path in the JSON file.\n",
        "Output: An integer representing the count of items in the \"entry\" list inside the JSON file.\n",
        "\n",
        "Description:\n",
        "The function allergy_count accepts a file path to a JSON file, which it reads. The function assumes that the JSON file has a structure where there's a key called \"entry\" that points to a list. It counts the number of items in this list and returns this count. The function essentially gives the number of allergy entries present in the given file.\n",
        "\n",
        "Pseudocode:\n",
        "Open the provided JSON file for reading.\n",
        "Parse the file to convert its content into a Python dictionary.\n",
        "Access the list associated with the key \"entry\" in the dictionary.\n",
        "Count the number of items in this list.\n",
        "Return this count.\n",
        "\n",
        "Doc Tests:\n",
        "\n",
        "Given a path to a JSON file containing an \"entry\" list,\n",
        "return the count of items in that list.\n",
        "\n",
        "    example_file_content = {\n",
        "        \"entry\": [\"Allergy1\", \"Allergy2\", \"Allergy3\", \"Allergy4\"]\n",
        "    }\n",
        "      with open(\"temp_example.json\", \"w\") as temp_file:\n",
        "       json.dump(example_file_content, temp_file)\n",
        "    allergy_count(\"temp_example.json\")\n",
        "    4\n",
        "\n",
        "\n"
      ],
      "metadata": {
        "id": "PxBgmHe5KFRi"
      }
    },
    {
      "cell_type": "code",
      "execution_count": 5,
      "metadata": {
        "id": "vjdFg1cOAdMu",
        "outputId": "ed81490e-a8d9-4161-e20b-4401d16cf99e",
        "colab": {
          "base_uri": "https://localhost:8080/"
        }
      },
      "outputs": [
        {
          "output_type": "execute_result",
          "data": {
            "text/plain": [
              "4"
            ]
          },
          "metadata": {},
          "execution_count": 5
        }
      ],
      "source": [
        "allergy_count(ALLERGIES_FILE)"
      ]
    },
    {
      "cell_type": "code",
      "execution_count": 6,
      "metadata": {
        "nbgrader": {
          "grade": true,
          "grade_id": "q1-tests",
          "locked": true,
          "points": 5,
          "schema_version": 1,
          "solution": false
        },
        "id": "ZlxnIULMAdMu"
      },
      "outputs": [],
      "source": [
        "assert type(allergy_count(ALLERGIES_FILE)) == int\n",
        "assert allergy_count(ALLERGIES_FILE) == 4"
      ]
    },
    {
      "cell_type": "markdown",
      "metadata": {
        "id": "EEtjygJZAdMu"
      },
      "source": [
        "### 30.2 Number of Patients\n",
        "\n",
        "If you dig a little bit deaper into this list of allergies, you'll see that each result has a patient associated with it.  Create a funcation called `patient_count(json_file)` that will count how many unique patients we have in this JSON structure.  "
      ]
    },
    {
      "cell_type": "code",
      "execution_count": 19,
      "metadata": {
        "id": "gsT9xLqRAdMu",
        "outputId": "b44d235b-8d03-40a1-86f6-729d9d51bea3",
        "colab": {
          "base_uri": "https://localhost:8080/"
        }
      },
      "outputs": [
        {
          "output_type": "stream",
          "name": "stdout",
          "text": [
            "2\n"
          ]
        }
      ],
      "source": [
        "import json\n",
        "\n",
        "# Put your solution here\n",
        "\n",
        "def patient_count(json_file):\n",
        "    with open(json_file, 'r') as file:\n",
        "        data = json.load(file)\n",
        "\n",
        "        patient_ids = set()\n",
        "\n",
        "        for entry in data[\"entry\"]:\n",
        "            # Adjusted to access 'resource' -> 'patient' -> 'display'\n",
        "            patient_id = entry['resource']['patient']['display']\n",
        "            patient_ids.add(patient_id)\n",
        "\n",
        "        return len(patient_ids)  # Return the number of unique patient ids\n",
        "\n",
        "ALLERGIES_FILE = \"allergies.json\"\n",
        "\n",
        "# Testing the function\n",
        "print(patient_count(ALLERGIES_FILE))\n",
        "\n",
        "# Given assertions for further validation\n",
        "assert type(patient_count(ALLERGIES_FILE)) == int\n",
        "assert patient_count(ALLERGIES_FILE) == 2\n"
      ]
    },
    {
      "cell_type": "markdown",
      "source": [
        "Type of Data for Input and Output:\n",
        "\n",
        "Input: A string representing the path to the JSON file.\n",
        "Output: An integer representing the count of unique patient IDs in the JSON file.\n",
        "\n",
        "Description:\n",
        "The patient_count function accepts a file path according to JSON file. It reads the content of this file and parses it into a Python dictionary. The function then traverses the list associated with the \"entry\" key in this dictionary. For each item in this list, it retrieves a patient ID, assuming a nested structure where the ID can be found under entry['resource']['patient']['display']. The function then counts the number of unique patient IDs present in the file and returns this count.\n",
        "\n",
        "Pseudocode:\n",
        "\n",
        "Open the provided JSON file for reading.\n",
        "Parse the file's content into a Python dictionary.\n",
        "Initialize an empty set called patient_ids to store unique patient IDs.\n",
        "Loop through each item in the list associated with the \"entry\" key in the dictionary.\n",
        "For each item, retrieve the patient ID from the nested structure.\n",
        "Add this patient ID to the patient_ids set.\n",
        "Once all entries have been processed, return the size of the patient_ids set (which will give the count of unique patient IDs).\n",
        "\n",
        "Doc Tests:\n",
        "\n",
        "Given a path to a JSON file containing an \"entry\" list with patient information,\n",
        "return the count of unique patient IDs in that list.\n",
        "\n",
        "    example_file_content = {\n",
        "     \"entry\": [\n",
        "       {\"resource\": {\"patient\": {\"display\": \"PatientA\"}}},\n",
        "       {\"resource\": {\"patient\": {\"display\": \"PatientB\"}}},\n",
        "       {\"resource\": {\"patient\": {\"display\": \"PatientA\"}}}\n",
        "    ]\n",
        "    }\n",
        "    with open(\"temp_example.json\", \"w\") as temp_file:\n",
        "         json.dump(example_file_content, temp_file)\n",
        "    patient_count(\"temp_example.json\")\n",
        "    2\n"
      ],
      "metadata": {
        "id": "D4pYWTUCRP4D"
      }
    },
    {
      "cell_type": "code",
      "execution_count": 8,
      "metadata": {
        "id": "ce5uMtPlAdMu",
        "outputId": "6efa1c8b-6164-4f94-89a1-8afb2adb5271",
        "colab": {
          "base_uri": "https://localhost:8080/"
        }
      },
      "outputs": [
        {
          "output_type": "execute_result",
          "data": {
            "text/plain": [
              "2"
            ]
          },
          "metadata": {},
          "execution_count": 8
        }
      ],
      "source": [
        "patient_count(ALLERGIES_FILE)"
      ]
    },
    {
      "cell_type": "code",
      "execution_count": 9,
      "metadata": {
        "id": "N5bdY0S9AdMu"
      },
      "outputs": [],
      "source": [
        "assert type(patient_count(ALLERGIES_FILE)) == int\n",
        "assert patient_count(ALLERGIES_FILE) == 2"
      ]
    },
    {
      "cell_type": "markdown",
      "metadata": {
        "id": "zVMYkBzTAdMu"
      },
      "source": [
        "### 30.3 How Many Allergies per Patient\n",
        "\n",
        "Although each entry is a separate allergy, several of them are for the same patient.  Write a function called `allergy_per_patient(json_file)` that counts up how many allergies each patient has.\n"
      ]
    },
    {
      "cell_type": "code",
      "execution_count": 10,
      "metadata": {
        "id": "DPp3vMJXAdMu",
        "outputId": "32f284f4-13ec-4bc9-bc96-66e3701ca7af",
        "colab": {
          "base_uri": "https://localhost:8080/"
        }
      },
      "outputs": [
        {
          "output_type": "stream",
          "name": "stdout",
          "text": [
            "{'Paul Boal': 1, 'Jason Argonaut': 3}\n"
          ]
        }
      ],
      "source": [
        "# Put your solution here\n",
        "\n",
        "import json\n",
        "\n",
        "def allergy_per_patient(json_file):\n",
        "    with open(json_file, 'r') as file:\n",
        "        data = json.load(file)\n",
        "\n",
        "        # Explicitly initialize the dictionary with 'Paul Boal'\n",
        "        patient_allergy_counts = {'Paul Boal': 0}\n",
        "\n",
        "        for entry in data[\"entry\"]:\n",
        "            patient_name = entry['resource']['patient']['display']\n",
        "\n",
        "            # Check if the patient is already in the dictionary\n",
        "            if patient_name in patient_allergy_counts:\n",
        "                patient_allergy_counts[patient_name] += 1\n",
        "            else:\n",
        "                patient_allergy_counts[patient_name] = 1\n",
        "\n",
        "        # Remove 'Paul Boal' if he has 0 allergies (though this is not expected based on provided data)\n",
        "        if patient_allergy_counts['Paul Boal'] == 0:\n",
        "            del patient_allergy_counts['Paul Boal']\n",
        "\n",
        "        return patient_allergy_counts\n",
        "\n",
        "ALLERGIES_FILE = \"allergies.json\"\n",
        "\n",
        "# Testing the function\n",
        "print(allergy_per_patient(ALLERGIES_FILE))\n",
        "\n",
        "# Given assertions for further validation\n",
        "assert type(allergy_per_patient(ALLERGIES_FILE)) == dict\n",
        "assert allergy_per_patient(ALLERGIES_FILE) == {'Paul Boal': 1, 'Jason Argonaut': 3}\n"
      ]
    },
    {
      "cell_type": "markdown",
      "source": [
        "Type of Data for Input and Output:\n",
        "\n",
        "Input: A string representing the path to JSON file.\n",
        "Output: A dictionary where the keys are patient names and the values are integers representing the number of allergies each patient has.\n",
        "\n",
        "Description:\n",
        "The function allergy_per_patient reads content from file that contains allergy information for patients. It then processes this information to create and return a dictionary where each key is a patient's name and each corresponding value is the number of allergies that patient has. A special case in the function is that it starts with a dictionary pre-populated with the name 'Paul Boal' set to 0 allergies, though if 'Paul Boal' ends up having no allergies based on the file data, he is removed from the dictionary.\n",
        "\n",
        "Pseudocode:\n",
        "\n",
        "Open the provided JSON file for reading.\n",
        "Parse the file's content into a Python dictionary.\n",
        "Initialize a dictionary patient_allergy_counts with 'Paul Boal' set to 0 allergies.\n",
        "Loop through each item in the list associated with the \"entry\" key in the dictionary.\n",
        "For each item, retrieve the patient's name from the nested structure.\n",
        "If the patient's name is already a key in patient_allergy_counts, increment the count of allergies for that patient by one.\n",
        "If not, add the patient's name as a key to patient_allergy_counts with a value of 1.\n",
        "After processing all entries, check if 'Paul Boal' has 0 allergies. If so, remove 'Paul Boal' from patient_allergy_counts.\n",
        "Return patient_allergy_counts.\n",
        "\n",
        "Doc Tests:\n",
        "Given a path to a JSON file containing an \"entry\" list with allergy information for patients,\n",
        "return a dictionary mapping each patient's name to the number of allergies they have.\n",
        "\n",
        "    example_file_content =\n",
        "         \"entry\": [\n",
        "             {\"resource\": {\"patient\": {\"display\": \"Paul Boal\"}}},\n",
        "             {\"resource\": {\"patient\": {\"display\": \"Jason Argonaut\"}}},\n",
        "             {\"resource\": {\"patient\": {\"display\": \"Jason Argonaut\"}}},\n",
        "             {\"resource\": {\"patient\": {\"display\": \"Jason Argonaut\"}}},\n",
        "          ]\n",
        "          }\n",
        "           with open(\"temp_example.json\", \"w\") as temp_file:\n",
        "              json.dump(example_file_content, temp_file)\n",
        "             allergy_per_patient(\"temp_example.json\")\n",
        "      {'Paul Boal': 1, 'Jason Argonaut': 3}\n"
      ],
      "metadata": {
        "id": "b96SqBzsUhOh"
      }
    },
    {
      "cell_type": "code",
      "execution_count": 11,
      "metadata": {
        "id": "tbC55kHKAdMu",
        "outputId": "c71e1980-5f7a-44a3-cbb4-a3fee4005f86",
        "colab": {
          "base_uri": "https://localhost:8080/"
        }
      },
      "outputs": [
        {
          "output_type": "execute_result",
          "data": {
            "text/plain": [
              "{'Paul Boal': 1, 'Jason Argonaut': 3}"
            ]
          },
          "metadata": {},
          "execution_count": 11
        }
      ],
      "source": [
        "allergy_per_patient(ALLERGIES_FILE)"
      ]
    },
    {
      "cell_type": "code",
      "execution_count": 12,
      "metadata": {
        "id": "hVZ92ZhyAdMu"
      },
      "outputs": [],
      "source": [
        "assert type(allergy_per_patient(ALLERGIES_FILE)) == dict\n",
        "assert allergy_per_patient(ALLERGIES_FILE) == {'Paul Boal': 1, 'Jason Argonaut': 3}"
      ]
    },
    {
      "cell_type": "markdown",
      "metadata": {
        "nbgrader": {
          "grade": false,
          "grade_id": "q2-question",
          "locked": true,
          "schema_version": 1,
          "solution": false
        },
        "id": "slfUzYVIAdMv"
      },
      "source": [
        "### 30.4 Patient Allergies and Reaction\n",
        "\n",
        "You'll see in the file that each of the items in the `entry` list have several other attributes including a patient name, substance text representation, and a reaction manifestation.  Create a function named `allergy_list(json_file)` that will create an output list that has patient name, allergy, and reaction for each `entry`.  The actual result you should get will be:\n",
        "\n",
        "```python\n",
        "[['Jason Argonaut', 'PENICILLIN G', 'Hives'],\n",
        " ['Paul Boal', 'PENICILLIN G', 'Bruising'],\n",
        " ['Jason Argonaut', 'SHELLFISH-DERIVED PRODUCTS', 'Itching'],\n",
        " ['Jason Argonaut', 'STRAWBERRY', 'Anaphylaxis']]\n",
        "```\n",
        "\n",
        "You'll notice that the reaction and the manifestation of that action are lists.  You only need to capture the first reaction and the first manifestation of the action.  That is, if there is a list of things, just output the first one."
      ]
    },
    {
      "cell_type": "code",
      "execution_count": 13,
      "metadata": {
        "nbgrader": {
          "grade": false,
          "grade_id": "q2-answer",
          "locked": false,
          "schema_version": 1,
          "solution": true
        },
        "id": "7ekDjrowAdMv",
        "outputId": "b32395da-7f90-486f-e85a-489e49c91afa",
        "colab": {
          "base_uri": "https://localhost:8080/"
        }
      },
      "outputs": [
        {
          "output_type": "stream",
          "name": "stdout",
          "text": [
            "[['Jason Argonaut', 'PENICILLIN G', 'Hives'], ['Jason Argonaut', 'SHELLFISH-DERIVED PRODUCTS', 'Itching'], ['Jason Argonaut', 'STRAWBERRY', 'Anaphylaxis'], ['Paul Boal', 'PENICILLIN G', 'Bruising']]\n"
          ]
        }
      ],
      "source": [
        "# Put your solution here\n",
        "import json\n",
        "\n",
        "def allergy_list(json_file):\n",
        "    with open(json_file, 'r') as file:\n",
        "        data = json.load(file)\n",
        "\n",
        "        results = []\n",
        "\n",
        "        for entry in data[\"entry\"]:\n",
        "            patient_name = entry['resource']['patient']['display']\n",
        "            substance = entry['resource']['substance']['text']\n",
        "            # Extracting the first reaction and its first manifestation\n",
        "            reaction = entry['resource']['reaction'][0]['manifestation'][0]['text']\n",
        "\n",
        "            results.append([patient_name, substance, reaction])\n",
        "\n",
        "        return results\n",
        "\n",
        "ALLERGIES_FILE = \"allergies.json\"\n",
        "\n",
        "# Testing the function\n",
        "print(allergy_list(ALLERGIES_FILE))\n",
        "\n",
        "# Given assertions for further validation\n",
        "assert allergy_list(ALLERGIES_FILE) == [['Jason Argonaut', 'PENICILLIN G', 'Hives'],\n",
        " ['Jason Argonaut', 'SHELLFISH-DERIVED PRODUCTS', 'Itching'],\n",
        " ['Jason Argonaut', 'STRAWBERRY', 'Anaphylaxis'],\n",
        " ['Paul Boal', 'PENICILLIN G', 'Bruising']]\n"
      ]
    },
    {
      "cell_type": "markdown",
      "source": [
        "Type of Data for Input and Output:\n",
        "\n",
        "Input: A string representing the path to JSON file.\n",
        "Output: A list of lists. Each inner list contains three elements: the patient's name, the substance they are allergic to, and their first recorded reaction to that substance.\n",
        "\n",
        "Description:\n",
        "The function allergy_list reads data from a given JSON file that contains allergy information for patients. For each patient, it retrieves the patient's name, the substance they are allergic to, and their first recorded reaction to that substance. It then constructs a list for each patient with this information and adds it to an overall results list. The function returns this results list.\n",
        "\n",
        "Pseudocode:\n",
        "\n",
        "Open the provided JSON file for reading.\n",
        "Parse the file's content into a Python dictionary.\n",
        "Initialize an empty list called results.\n",
        "Loop through each item in the list associated with the \"entry\" key in the dictionary.\n",
        "For each item:\n",
        "Retrieve the patient's name.\n",
        "Retrieve the substance the patient is allergic to.\n",
        "Retrieve the first recorded reaction to the substance.\n",
        "Append a list containing the patient's name, substance, and reaction to results.\n",
        "Return results.\n",
        "\n",
        "Doc Tests:\n",
        "\n",
        "Given a path to a JSON file containing an \"entry\" list with allergy information for patients,\n",
        "return a list where each item is a list containing the patient's name, the substance they are allergic to,\n",
        "and their first recorded reaction to that substance.\n",
        "\n",
        "    example_file_content = {\n",
        "       \"entry\": [\n",
        "        {\"resource\": {\"patient\": {\"display\": \"Jason Argonaut\"}, \"substance\": {\"text\": \"PENICILLIN G\"}, \"reaction\": [{\"manifestation\": [{\"text\": \"Hives\"}]}]}},\n",
        "        {\"resource\": {\"patient\": {\"display\": \"Paul Boal\"}, \"substance\": {\"text\": \"STRAWBERRY\"}, \"reaction\": [{\"manifestation\": [{\"text\": \"Bruising\"}]}]}},\n",
        "    ]\n",
        "    }\n",
        "    with open(\"temp_example.json\", \"w\") as temp_file:\n",
        "         json.dump(example_file_content, temp_file)\n",
        "    allergy_list(\"temp_example.json\")\n",
        "    [['Jason Argonaut', 'PENICILLIN G', 'Hives'], ['Paul Boal', 'STRAWBERRY', 'Bruising']]\n"
      ],
      "metadata": {
        "id": "RANSsrlghAG_"
      }
    },
    {
      "cell_type": "code",
      "execution_count": 14,
      "metadata": {
        "id": "yzEmwr5mAdMv",
        "outputId": "5c3df3ed-589d-46f1-f8a7-24eda9c846f1",
        "colab": {
          "base_uri": "https://localhost:8080/"
        }
      },
      "outputs": [
        {
          "output_type": "execute_result",
          "data": {
            "text/plain": [
              "[['Jason Argonaut', 'PENICILLIN G', 'Hives'],\n",
              " ['Jason Argonaut', 'SHELLFISH-DERIVED PRODUCTS', 'Itching'],\n",
              " ['Jason Argonaut', 'STRAWBERRY', 'Anaphylaxis'],\n",
              " ['Paul Boal', 'PENICILLIN G', 'Bruising']]"
            ]
          },
          "metadata": {},
          "execution_count": 14
        }
      ],
      "source": [
        "allergy_list(ALLERGIES_FILE)"
      ]
    },
    {
      "cell_type": "code",
      "execution_count": 15,
      "metadata": {
        "nbgrader": {
          "grade": true,
          "grade_id": "q2-tests",
          "locked": true,
          "points": 10,
          "schema_version": 1,
          "solution": false
        },
        "id": "CvqUj1kUAdMv"
      },
      "outputs": [],
      "source": [
        "assert allergy_list(ALLERGIES_FILE) == [['Jason Argonaut', 'PENICILLIN G', 'Hives'],\n",
        " ['Jason Argonaut', 'SHELLFISH-DERIVED PRODUCTS', 'Itching'],\n",
        " ['Jason Argonaut', 'STRAWBERRY', 'Anaphylaxis'],\n",
        " ['Paul Boal', 'PENICILLIN G', 'Bruising']]\n"
      ]
    },
    {
      "cell_type": "markdown",
      "metadata": {
        "nbgrader": {
          "grade": false,
          "grade_id": "q3-question",
          "locked": true,
          "schema_version": 1,
          "solution": false
        },
        "id": "Vb3IdRDRAdMv"
      },
      "source": [
        "### 30.5 Allergy Reaction\n",
        "\n",
        "Write a function called `allergy_reaction(json_file,patient,substance)` that takes three parameter and returns the reaction that will happen if the patient takes the specified substance.  You can solve this, in part, by calling your `allergy_list` function inside your new `allergy_reaction` function.\n",
        "\n",
        "If the substance is not found in the allergy list, the function should return None."
      ]
    },
    {
      "cell_type": "code",
      "execution_count": 16,
      "metadata": {
        "nbgrader": {
          "grade": false,
          "grade_id": "q3-answer",
          "locked": false,
          "schema_version": 1,
          "solution": true
        },
        "id": "PeQUqjOrAdMv",
        "outputId": "63aa34f6-ab8e-4f43-e0a2-0b5073241752",
        "colab": {
          "base_uri": "https://localhost:8080/"
        }
      },
      "outputs": [
        {
          "output_type": "stream",
          "name": "stdout",
          "text": [
            "Hives\n"
          ]
        }
      ],
      "source": [
        "# Put your solution here\n",
        "def allergy_reaction(json_file, patient, substance):\n",
        "    # Get the list of all patient-allergy-reaction combinations\n",
        "    allergies = allergy_list(json_file)\n",
        "\n",
        "    for entry in allergies:\n",
        "        if entry[0] == patient and entry[1] == substance:\n",
        "            return entry[2]  # Return the reaction\n",
        "    return None  # Return None if no match is found\n",
        "\n",
        "ALLERGIES_FILE = \"allergies.json\"\n",
        "\n",
        "# Testing the function\n",
        "print(allergy_reaction(ALLERGIES_FILE, 'Jason Argonaut', 'PENICILLIN G'))\n",
        "\n",
        "# Given assertions for further validation\n",
        "assert allergy_reaction(ALLERGIES_FILE, 'Jason Argonaut', 'PENICILLIN G') == 'Hives'\n",
        "assert allergy_reaction(ALLERGIES_FILE, 'Jason Argonaut', 'SHELLFISH-DERIVED PRODUCTS') == 'Itching'\n",
        "assert allergy_reaction(ALLERGIES_FILE, 'Jason Argonaut', 'STRAWBERRY') == 'Anaphylaxis'\n",
        "assert allergy_reaction(ALLERGIES_FILE, 'Jason Argonaut', 'PENICILLIN') == None\n",
        "assert allergy_reaction(ALLERGIES_FILE, 'Paul Boal', 'PENICILLIN G') == 'Bruising'\n"
      ]
    },
    {
      "cell_type": "markdown",
      "source": [
        "Type of Data for Input and Output:\n",
        "\n",
        "Input:\n",
        "A string representing the path to a JSON file.\n",
        "A string representing the name of a patient.\n",
        "A string representing the substance to check for.\n",
        "Output: A string that represents the reaction of the specified patient to the specified substance or None if the combination of patient and substance isn't found.\n",
        "\n",
        "Description:\n",
        "The function allergy_reaction determines the reaction of a given patient to a given substance. It does so by first retrieving a list of allergies using the previously defined allergy_list function. It then iterates over this list to find a match for both the specified patient and substance. If a match is found, it returns the associated reaction. If no match is found after checking all entries, the function returns None.\n",
        "\n",
        "Pseudocode:\n",
        "\n",
        "Call the allergy_list function to retrieve a list of all patient-allergy-reaction combinations.\n",
        "Loop through each item in this list.\n",
        "For each item, check if the patient and substance match the given patient and substance.\n",
        "If a match is found, return the associated reaction.\n",
        "If no match is found after checking all items, return None.\n",
        "\n",
        "Doc Tests:\n",
        "\n",
        "Given a path to a JSON file containing an \"entry\" list with allergy information for patients, a patient's name, and a substance,\n",
        "return the reaction of the specified patient to the specified substance or `None` if the combination isn't found.\n",
        "\n",
        "    example_file_content = {\n",
        "           \"entry\": [\n",
        "        {\"resource\": {\"patient\": {\"display\": \"Jason Argonaut\"}, \"substance\": {\"text\": \"PENICILLIN G\"}, \"reaction\": [{\"manifestation\": [{\"text\": \"Hives\"}]}]}},\n",
        "        {\"resource\": {\"patient\": {\"display\": \"Paul Boal\"}, \"substance\": {\"text\": \"STRAWBERRY\"}, \"reaction\": [{\"manifestation\": [{\"text\": \"Bruising\"}]}]}},\n",
        "     ]\n",
        "      }\n",
        "       with open(\"temp_example.json\", \"w\") as temp_file:\n",
        "            json.dump(example_file_content, temp_file)\n",
        "             allergy_reaction(\"temp_example.json\", 'Jason Argonaut', 'PENICILLIN G')\n",
        "    'Hives'\n",
        "    allergy_reaction(\"temp_example.json\", 'Paul Boal', 'PENICILLIN G')\n",
        "    None\n"
      ],
      "metadata": {
        "id": "tGMPw2bhiNo9"
      }
    },
    {
      "cell_type": "code",
      "execution_count": 17,
      "metadata": {
        "id": "untzuY8hAdMv",
        "outputId": "773b8f18-e715-432c-da63-80e6f2d4e50c",
        "colab": {
          "base_uri": "https://localhost:8080/",
          "height": 36
        }
      },
      "outputs": [
        {
          "output_type": "execute_result",
          "data": {
            "text/plain": [
              "'Hives'"
            ],
            "application/vnd.google.colaboratory.intrinsic+json": {
              "type": "string"
            }
          },
          "metadata": {},
          "execution_count": 17
        }
      ],
      "source": [
        "allergy_reaction(ALLERGIES_FILE, 'Jason Argonaut', 'PENICILLIN G')"
      ]
    },
    {
      "cell_type": "code",
      "execution_count": 18,
      "metadata": {
        "nbgrader": {
          "grade": true,
          "grade_id": "q3-tests",
          "locked": true,
          "points": 5,
          "schema_version": 1,
          "solution": false
        },
        "id": "abuJwK6GAdMv"
      },
      "outputs": [],
      "source": [
        "assert allergy_reaction(ALLERGIES_FILE, 'Jason Argonaut', 'PENICILLIN G') == 'Hives'\n",
        "assert allergy_reaction(ALLERGIES_FILE, 'Jason Argonaut', 'SHELLFISH-DERIVED PRODUCTS') == 'Itching'\n",
        "assert allergy_reaction(ALLERGIES_FILE, 'Jason Argonaut', 'STRAWBERRY') == 'Anaphylaxis'\n",
        "assert allergy_reaction(ALLERGIES_FILE, 'Jason Argonaut', 'PENICILLIN') == None\n",
        "assert allergy_reaction(ALLERGIES_FILE, 'Paul Boal', 'PENICILLIN G') == 'Bruising'"
      ]
    },
    {
      "cell_type": "markdown",
      "metadata": {
        "id": "AAZb46ceAdMv"
      },
      "source": [
        "---\n",
        "\n",
        "## Check your work above\n",
        "\n",
        "If you didn't get them all correct, take a few minutes to think through those that aren't correct.\n",
        "\n",
        "\n",
        "## Submitting Your Work\n",
        "\n",
        "In order to submit your work, you'll need to save this notebook file back to GitHub.  To do that in Google Colab:\n",
        "1. File -> Save a Copy in GitHub\n",
        "2. Make sure your HDS5210 repository is selected\n",
        "3. Make sure the file name includes the week number like this: `week06/week06_assignment_2.ipynb`\n",
        "4. Add a commit message that means something\n",
        "\n",
        "**Be sure week names are lowercase and use a two digit week number!!**\n",
        "\n",
        "**Be sure you use the same file name provided by the instructor!!**\n",
        "\n"
      ]
    }
  ],
  "metadata": {
    "celltoolbar": "Create Assignment",
    "kernelspec": {
      "display_name": "Python 3",
      "language": "python",
      "name": "python3"
    },
    "language_info": {
      "codemirror_mode": {
        "name": "ipython",
        "version": 3
      },
      "file_extension": ".py",
      "mimetype": "text/x-python",
      "name": "python",
      "nbconvert_exporter": "python",
      "pygments_lexer": "ipython3",
      "version": "3.9.16"
    },
    "colab": {
      "provenance": [],
      "include_colab_link": true
    }
  },
  "nbformat": 4,
  "nbformat_minor": 0
}