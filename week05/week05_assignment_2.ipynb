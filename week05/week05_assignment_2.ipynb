{
  "cells": [
    {
      "cell_type": "markdown",
      "metadata": {
        "id": "view-in-github",
        "colab_type": "text"
      },
      "source": [
        "<a href=\"https://colab.research.google.com/github/sravanivalligari/hds5210-2023/blob/main/week05/week05_assignment_2.ipynb\" target=\"_parent\"><img src=\"https://colab.research.google.com/assets/colab-badge.svg\" alt=\"Open In Colab\"/></a>"
      ]
    },
    {
      "cell_type": "markdown",
      "metadata": {
        "nbgrader": {
          "grade": false,
          "grade_id": "intro",
          "locked": true,
          "schema_version": 1,
          "solution": false
        },
        "id": "264vh03okrlX"
      },
      "source": [
        "# Week 5 Exercises\n",
        "\n",
        "_McKinney 3.2_\n",
        "\n",
        "**Unlike in previous weeks, in the exercises below, you will need to create a function definition from scratch.  I'll provide specific instructions and examples for how it will be used, but you will have to do the work of definiging the whole function.**\n",
        "\n",
        "---\n",
        "---"
      ]
    },
    {
      "cell_type": "markdown",
      "metadata": {
        "nbgrader": {
          "grade": false,
          "grade_id": "longest",
          "locked": true,
          "schema_version": 1,
          "solution": false
        },
        "id": "GU3ZrA30krlZ"
      },
      "source": [
        "### 25.1 Longest String\n",
        "\n",
        "Write a function called `longest (L)` that takes as its only parameter a list of strings.  Your function needs to find the longest of those strings and return the position number of that longest string.  An example is provided below:\n",
        "\n",
        "The longest word in that list of strings is \"birthday\" in position #1, so `longest(strings)` should return 1.\n",
        "```\n",
        ">>> strings = ['happy', 'birthday', 'to', 'me']\n",
        ">>> longest(strings)\n",
        "1\n",
        "```\n",
        "\n",
        "Be sure to include a docstring.  Include test cases in your docstring if you want to."
      ]
    },
    {
      "cell_type": "code",
      "execution_count": null,
      "metadata": {
        "nbgrader": {
          "grade": false,
          "grade_id": "longest-answer",
          "locked": false,
          "schema_version": 1,
          "solution": true
        },
        "id": "j-vnkrq6krla",
        "outputId": "9398065a-1d47-4566-ccab-d83414991114",
        "colab": {
          "base_uri": "https://localhost:8080/"
        }
      },
      "outputs": [
        {
          "output_type": "stream",
          "name": "stdout",
          "text": [
            "Finding tests in NoName\n",
            "Trying:\n",
            "    longest(['happy', 'birthday', 'to', 'me'])\n",
            "Expecting:\n",
            "    1\n",
            "ok\n",
            "Trying:\n",
            "    longest(['abc','def','ghi'])\n",
            "Expecting:\n",
            "    0\n",
            "ok\n"
          ]
        }
      ],
      "source": [
        "### BEGIN SOLUTION\n",
        "def longest(L):\n",
        "    \"\"\"\n",
        "    This function takes a list of strings L and returns the position of the longest string.\n",
        "\n",
        "    Parameters:\n",
        "    L (list): A list of strings\n",
        "\n",
        "    Returns:\n",
        "    int: The position of the longest string in the list\n",
        "\n",
        "    Examples:\n",
        "    >>> longest(['happy', 'birthday', 'to', 'me'])\n",
        "    1\n",
        "    >>> longest(['abc','def','ghi'])\n",
        "    0\n",
        "    \"\"\"\n",
        "    max_length = 0  # Initialize the maximum length to 0\n",
        "    position = -1   # Initialize the position to -1\n",
        "\n",
        "    for i, string in enumerate(L):\n",
        "        if len(string) > max_length:\n",
        "            max_length = len(string)\n",
        "            position = i\n",
        "\n",
        "    return position\n",
        "\n",
        "# Test cases\n",
        "assert longest(\"happy birthday to me\".split(\" \")) == 1\n",
        "assert longest(\"enjoy class\".split(\" \")) == 0\n",
        "\n",
        "# Run doctest\n",
        "import doctest\n",
        "doctest.run_docstring_examples(longest, globals(), verbose=True)\n",
        "\n",
        "### END SOLUTION"
      ]
    },
    {
      "cell_type": "markdown",
      "source": [
        "Pseudocode:\n",
        "Purpose of the function:\n",
        "The longest function accepts a list of strings and returns the position (index) of the longest string within that list.\n",
        "\n",
        "    FUNCTION longest(L: LIST OF STRINGS) -> INTEGER:\n",
        "    SET max_length TO 0\n",
        "    SET position TO -1\n",
        "    \n",
        "    FOR i FROM 0 TO length of L - 1:\n",
        "        IF length of L[i] > max_length THEN:\n",
        "            SET max_length TO length of L[i]\n",
        "            SET position TO i\n",
        "        END IF\n",
        "    END FOR\n",
        "\n",
        "    RETURN position\n",
        "    END FUNCTION\n",
        "\n",
        "\n"
      ],
      "metadata": {
        "id": "dUYicTUpMUjk"
      }
    },
    {
      "cell_type": "markdown",
      "source": [
        "Docstring:\n",
        "The function longest takes a list of strings L and returns the position of the longest string.\n",
        "\n",
        "Parameters:\n",
        "L (list of strings): A list containing strings.\n",
        "\n",
        "Returns:\n",
        "int: The position (0-indexed) of the longest string in the list.\n",
        "Returns -1 if the list is empty.\n",
        "\n",
        "Examples:\n",
        ">>> longest(['happy', 'birthday', 'to', 'me'])\n",
        "1\n",
        ">>> longest(['abc','def','ghi'])\n",
        "0\n"
      ],
      "metadata": {
        "id": "ojSZ2HfGMYXK"
      }
    },
    {
      "cell_type": "code",
      "execution_count": null,
      "metadata": {
        "nbgrader": {
          "grade": true,
          "grade_id": "longest-tests",
          "locked": true,
          "points": 10,
          "schema_version": 1,
          "solution": false
        },
        "id": "z6yxVSXWkrlb"
      },
      "outputs": [],
      "source": [
        "assert longest(\"happy birthday to me\".split(\" \")) == 1\n",
        "assert longest(\"enjoy class\".split(\" \")) == 0\n",
        "assert longest(['when','what','where','how','who']) == 2"
      ]
    },
    {
      "cell_type": "code",
      "execution_count": null,
      "metadata": {
        "id": "wsepyCqPkrlb",
        "outputId": "acee10b0-b8c2-45da-bfaf-4281a04c28c3",
        "colab": {
          "base_uri": "https://localhost:8080/"
        }
      },
      "outputs": [
        {
          "output_type": "stream",
          "name": "stdout",
          "text": [
            "Finding tests in NoName\n",
            "Trying:\n",
            "    longest(['happy', 'birthday', 'to', 'me'])\n",
            "Expecting:\n",
            "    1\n",
            "ok\n",
            "Trying:\n",
            "    longest(['abc','def','ghi'])\n",
            "Expecting:\n",
            "    0\n",
            "ok\n"
          ]
        }
      ],
      "source": [
        "import doctest\n",
        "doctest.run_docstring_examples(longest, globals(), verbose=True)"
      ]
    },
    {
      "cell_type": "markdown",
      "metadata": {
        "id": "EYGfXM9Skrlc"
      },
      "source": [
        "### 25.2 Farenheit to Celsius\n",
        "\n",
        "Write a function called f_to_c() that converts a given temperature in degrees Farenheit to degrees Celsius.  If you don't recall that conversion, it is:\n",
        "\n",
        "$ temp_c = \\frac{5}{9} \\times (temp_f - 32) $\n",
        "\n",
        "Make sure that you code is well documented using the DocString examples, and that your code includes tests for 212f, 32f, and 98.6f."
      ]
    },
    {
      "cell_type": "code",
      "execution_count": null,
      "metadata": {
        "id": "afQC59m0krlc",
        "outputId": "16ced5d3-84d3-4ce5-d1ed-f614d0503131",
        "colab": {
          "base_uri": "https://localhost:8080/"
        }
      },
      "outputs": [
        {
          "output_type": "stream",
          "name": "stdout",
          "text": [
            "Finding tests in NoName\n",
            "Trying:\n",
            "    f_to_c(212)\n",
            "Expecting:\n",
            "    100.0\n",
            "ok\n",
            "Trying:\n",
            "    f_to_c(32)\n",
            "Expecting:\n",
            "    0.0\n",
            "ok\n",
            "Trying:\n",
            "    f_to_c(98.6)\n",
            "Expecting:\n",
            "    37.0\n",
            "ok\n"
          ]
        }
      ],
      "source": [
        "### BEGIN SOLUTION\n",
        "def f_to_c(temp_f):\n",
        "    \"\"\"\n",
        "    This function converts a given temperature in degrees Fahrenheit to degrees Celsius.\n",
        "\n",
        "    Parameters:\n",
        "    temp_f (float): Temperature in degrees Fahrenheit\n",
        "\n",
        "    Returns:\n",
        "    float: Temperature in degrees Celsius\n",
        "\n",
        "    Examples:\n",
        "    >>> f_to_c(212)\n",
        "    100.0\n",
        "    >>> f_to_c(32)\n",
        "    0.0\n",
        "    >>> f_to_c(98.6)\n",
        "    37.0\n",
        "    \"\"\"\n",
        "    temp_c = 5/9 * (temp_f - 32)  # Apply the conversion formula\n",
        "    return temp_c\n",
        "\n",
        "# Test cases\n",
        "assert f_to_c(212) == 100.0\n",
        "assert f_to_c(32) == 0.0\n",
        "assert f_to_c(98.6) == 37.0\n",
        "\n",
        "# Run doctest\n",
        "import doctest\n",
        "doctest.run_docstring_examples(f_to_c, globals(), verbose=True)\n",
        "\n",
        "### END SOLUTION"
      ]
    },
    {
      "cell_type": "markdown",
      "source": [
        "Pseudocode:\n",
        "\n",
        "    FUNCTION f_to_c(temp_f: FLOAT) -> FLOAT:\n",
        "    SET temp_c TO (5/9 * (temp_f - 32))\n",
        "    RETURN temp_c\n",
        "    END FUNCTION\n"
      ],
      "metadata": {
        "id": "E5LLFyH0Mcu7"
      }
    },
    {
      "cell_type": "markdown",
      "source": [
        "Docstring:\n",
        "\n",
        "The function f_to_c converts a given temperature in degrees Fahrenheit to degrees Celsius.\n",
        "\n",
        "Parameters:\n",
        "temp_f (float): Temperature in degrees Fahrenheit.\n",
        "\n",
        "Returns:\n",
        "float: The equivalent temperature in degrees Celsius.\n",
        "\n",
        "Examples:\n",
        ">>> f_to_c(212)\n",
        "100.0\n",
        ">>> f_to_c(32)\n",
        "0.0\n",
        ">>> f_to_c(98.6)\n",
        "37.0\n",
        "\n"
      ],
      "metadata": {
        "id": "pdmE0tlXMgAD"
      }
    },
    {
      "cell_type": "code",
      "execution_count": null,
      "metadata": {
        "id": "_Us88fKqkrld"
      },
      "outputs": [],
      "source": [
        "assert f_to_c(212) == 100.0\n",
        "assert f_to_c(32) == 0.0\n",
        "assert f_to_c(98.6) == 37.0"
      ]
    },
    {
      "cell_type": "code",
      "execution_count": null,
      "metadata": {
        "id": "qrG6IYCFkrld",
        "outputId": "3ddef9c3-09bb-4d3a-d52d-a4c29f271477",
        "colab": {
          "base_uri": "https://localhost:8080/"
        }
      },
      "outputs": [
        {
          "output_type": "stream",
          "name": "stdout",
          "text": [
            "Finding tests in NoName\n",
            "Trying:\n",
            "    f_to_c(212)\n",
            "Expecting:\n",
            "    100.0\n",
            "ok\n",
            "Trying:\n",
            "    f_to_c(32)\n",
            "Expecting:\n",
            "    0.0\n",
            "ok\n",
            "Trying:\n",
            "    f_to_c(98.6)\n",
            "Expecting:\n",
            "    37.0\n",
            "ok\n"
          ]
        }
      ],
      "source": [
        "import doctest\n",
        "doctest.run_docstring_examples(f_to_c, globals(), verbose=True)"
      ]
    },
    {
      "cell_type": "markdown",
      "metadata": {
        "id": "LjjzyWldkrld"
      },
      "source": [
        "### 25.3 Computing Length of Stay\n",
        "\n",
        "For this problem, we have a collection of patient enounter data stored as a Python dictionary.  The `key` for the dictionary is the **encounter ID**, a code that starts with the letter `E` followed by four numbers.  The value associated with each encounter ID is another Python dictionary.  This \"inner\" dictionary holds three items: admit date, primary diagnosis, and discharge date.  See the example in the code below.\n",
        "\n",
        "You need to write a length of stay function that computes the length of stay, in whole days, between the admit date and discharge date.  However, if the diagnosis is \"Observation\" then the length of stay should always be returned as 0 regardless of the admit and discharge dates. Your function should should take three parameters: a start date, an end date, and a diagnosis.\n",
        "\n",
        "You will find it handy to refer to this example here on how to calculate the number of days between two dates: https://stackoverflow.com/questions/151199/how-to-calculate-number-of-days-between-two-given-dates"
      ]
    },
    {
      "cell_type": "code",
      "execution_count": null,
      "metadata": {
        "id": "e48iHBwakrld",
        "outputId": "845fd916-923b-4ea6-bbe5-ab8c67b08646",
        "colab": {
          "base_uri": "https://localhost:8080/"
        }
      },
      "outputs": [
        {
          "output_type": "stream",
          "name": "stdout",
          "text": [
            "Finding tests in NoName\n",
            "Trying:\n",
            "    los(date(2019,1,3), date(2019,1,8), \"COPD\")\n",
            "Expecting:\n",
            "    5\n",
            "ok\n",
            "Trying:\n",
            "    los(date(2020,1,5), date(2020,1,8), \"Observation\")\n",
            "Expecting:\n",
            "    0\n",
            "ok\n",
            "5\n",
            "4\n",
            "1\n",
            "0\n",
            "0\n"
          ]
        }
      ],
      "source": [
        "from datetime import date\n",
        "\n",
        "### BEGIN SOLUTION\n",
        "\n",
        "def los(start_date, end_date, diagnosis):\n",
        "    \"\"\"\n",
        "    This function computes the length of stay in whole days based on the admit date, discharge date, and diagnosis.\n",
        "\n",
        "    Parameters:\n",
        "    start_date (date): The admit date\n",
        "    end_date (date): The discharge date\n",
        "    diagnosis (str): The primary diagnosis\n",
        "\n",
        "    Returns:\n",
        "    int: The length of stay in whole days\n",
        "\n",
        "    Examples:\n",
        "    >>> los(date(2019,1,3), date(2019,1,8), \"COPD\")\n",
        "    5\n",
        "    >>> los(date(2020,1,5), date(2020,1,8), \"Observation\")\n",
        "    0\n",
        "    \"\"\"\n",
        "    if diagnosis == \"Observation\":\n",
        "        return 0\n",
        "\n",
        "    length_of_stay = end_date.toordinal() - start_date.toordinal()\n",
        "    return length_of_stay\n",
        "\n",
        "# Test cases\n",
        "assert los(date(2019,1,3), date(2019,1,8), \"COPD\") == 5\n",
        "assert los(date(2020,1,5), date(2020,1,8), \"Observation\") == 0\n",
        "\n",
        "# Run doctest\n",
        "import doctest\n",
        "doctest.run_docstring_examples(los, globals(), verbose=True)\n",
        "\n",
        "# Sample encounters data\n",
        "encounters = {\n",
        "    \"E1234\": { \"admit\": date(2019,1,3), \"diagnosis\": \"COPD\", \"discharge\": date(2019,1,8) },\n",
        "    \"E8342\": { \"admit\": date(2019,1,5), \"diagnosis\": \"Hypertension\", \"discharge\": date(2019,1,9) },\n",
        "    \"E9231\": { \"admit\": date(2019,1,12), \"diagnosis\": \"Anxiety\", \"discharge\": date(2019,1,13) },\n",
        "    \"E8333\": { \"admit\": date(2019,1,15), \"diagnosis\": \"Observation\", \"discharge\": date(2019,1,16) },\n",
        "    \"E3342\": { \"admit\": date(2019,1,4), \"diagnosis\": \"Anxiety\", \"discharge\": date(2019,1,4)}\n",
        "}\n",
        "\n",
        "# Loop through the encounters and print the length of stay\n",
        "for encid, visit in encounters.items():\n",
        "    print(los(visit['admit'], visit['discharge'], visit['diagnosis']))\n",
        "\n",
        "### END SOLUTION"
      ]
    },
    {
      "cell_type": "markdown",
      "source": [
        "Pseudocode:\n",
        "\n",
        "    FUNCTION los(start_date: DATE, end_date: DATE, diagnosis: STRING) -> INTEGER:\n",
        "    IF diagnosis IS \"Observation\" THEN:\n",
        "        RETURN 0\n",
        "    END IF\n",
        "\n",
        "    SET length_of_stay TO ordinal value of end_date MINUS ordinal value of start_date\n",
        "    RETURN length_of_stay\n",
        "    END FUNCTION\n",
        ""
      ],
      "metadata": {
        "id": "N2ryPjkrMjW8"
      }
    },
    {
      "cell_type": "markdown",
      "source": [
        "Docstring:\n",
        "\n",
        "The function los computes the length of stay in whole days based on the admit date, discharge date, and primary diagnosis.\n",
        "\n",
        "Parameters:\n",
        "start_date (date): The admit date.\n",
        "end_date (date): The discharge date.\n",
        "diagnosis (str): The primary diagnosis.\n",
        "\n",
        "Returns:\n",
        "int: The length of stay in whole days. If the diagnosis is \"Observation\", the return value is always 0.\n",
        "\n",
        "Examples:\n",
        ">>> los(date(2019,1,3), date(2019,1,8), \"COPD\")\n",
        "5\n",
        ">>> los(date(2020,1,5), date(2020,1,8), \"Observation\")\n",
        "0\n",
        "\n"
      ],
      "metadata": {
        "id": "ur8zRfS1MoXV"
      }
    },
    {
      "cell_type": "code",
      "execution_count": null,
      "metadata": {
        "id": "u9wp7O_gkrle"
      },
      "outputs": [],
      "source": [
        "assert los(date(2019,1,3), date(2019,1,8), \"COPD\") == 5\n",
        "assert los(date(2020,1,5), date(2020,1,8), \"Observation\") == 0"
      ]
    },
    {
      "cell_type": "code",
      "execution_count": null,
      "metadata": {
        "id": "2s5h8Bh4krle",
        "outputId": "52cb7e97-bb02-46fa-e573-da98399651e0",
        "colab": {
          "base_uri": "https://localhost:8080/"
        }
      },
      "outputs": [
        {
          "output_type": "stream",
          "name": "stdout",
          "text": [
            "Finding tests in NoName\n",
            "Trying:\n",
            "    los(date(2019,1,3), date(2019,1,8), \"COPD\")\n",
            "Expecting:\n",
            "    5\n",
            "ok\n",
            "Trying:\n",
            "    los(date(2020,1,5), date(2020,1,8), \"Observation\")\n",
            "Expecting:\n",
            "    0\n",
            "ok\n"
          ]
        }
      ],
      "source": [
        "import doctest\n",
        "doctest.run_docstring_examples(los, globals(), verbose=True)"
      ]
    },
    {
      "cell_type": "code",
      "execution_count": null,
      "metadata": {
        "id": "MPfHMb6Okrle",
        "outputId": "660af242-6292-48e2-dc9d-1033e016c412",
        "colab": {
          "base_uri": "https://localhost:8080/"
        }
      },
      "outputs": [
        {
          "output_type": "stream",
          "name": "stdout",
          "text": [
            "5\n",
            "4\n",
            "1\n",
            "0\n",
            "0\n"
          ]
        }
      ],
      "source": [
        "encounters = {\n",
        "    \"E1234\": { \"admit\": date(2019,1,3), \"diagnosis\": \"COPD\", \"discharge\": date(2019,1,8) },\n",
        "    \"E8342\": { \"admit\": date(2019,1,5), \"diagnosis\": \"Hypertension\", \"discharge\": date(2019,1,9) },\n",
        "    \"E9231\": { \"admit\": date(2019,1,12), \"diagnosis\": \"Anxiety\", \"discharge\": date(2019,1,13) },\n",
        "    \"E8333\": { \"admit\": date(2019,1,15), \"diagnosis\": \"Observation\", \"discharge\": date(2019,1,16) },\n",
        "    \"E3342\": { \"admit\": date(2019,1,4), \"diagnosis\": \"Anxiety\", \"discharge\": date(2019,1,4)}\n",
        "}\n",
        "\n",
        "\n",
        "for encid, visit in encounters.items():\n",
        "    print(los(visit['admit'],visit['discharge'],visit['diagnosis']))\n",
        "\n",
        "# Your output should be\n",
        "# 5\n",
        "# 4\n",
        "# 1\n",
        "# 0\n",
        "# 0"
      ]
    },
    {
      "cell_type": "markdown",
      "metadata": {
        "id": "M63Aeq6Xkrle"
      },
      "source": [
        "---\n",
        "---\n",
        "\n",
        "### 25.4 Average Length of Stay\n",
        "\n",
        "Create a function called `average_los` that returns the average of the LOS for the encounters in the provided dictionary. The encounters must be a dictionary that contains dictionaries that each contain at least an admit date and a discharge date.\n",
        "    \n",
        "If the length of stay of any individual encounter is 0, then it will not be counted toward the average."
      ]
    },
    {
      "cell_type": "code",
      "execution_count": null,
      "metadata": {
        "id": "Rb_-1q1Lkrlf",
        "outputId": "9a394813-e7fc-46a2-825f-142bd176a30d",
        "colab": {
          "base_uri": "https://localhost:8080/"
        }
      },
      "outputs": [
        {
          "output_type": "stream",
          "name": "stdout",
          "text": [
            "Finding tests in NoName\n",
            "Trying:\n",
            "    average_los({\n",
            "        \"E1234\": { \"admit\": date(2019,1,3), \"diagnosis\": \"COPD\", \"discharge\": date(2019,1,8) },\n",
            "        \"E8342\": { \"admit\": date(2019,1,5), \"diagnosis\": \"Hypertension\", \"discharge\": date(2019,1,9) },\n",
            "        \"E9231\": { \"admit\": date(2019,1,12), \"diagnosis\": \"Anxiety\", \"discharge\": date(2019,1,13) }\n",
            "    })\n",
            "Expecting:\n",
            "    4.33\n",
            "**********************************************************************\n",
            "File \"__main__\", line 16, in NoName\n",
            "Failed example:\n",
            "    average_los({\n",
            "        \"E1234\": { \"admit\": date(2019,1,3), \"diagnosis\": \"COPD\", \"discharge\": date(2019,1,8) },\n",
            "        \"E8342\": { \"admit\": date(2019,1,5), \"diagnosis\": \"Hypertension\", \"discharge\": date(2019,1,9) },\n",
            "        \"E9231\": { \"admit\": date(2019,1,12), \"diagnosis\": \"Anxiety\", \"discharge\": date(2019,1,13) }\n",
            "    })\n",
            "Expected:\n",
            "    4.33\n",
            "Got:\n",
            "    3.33\n"
          ]
        }
      ],
      "source": [
        "from datetime import date\n",
        "\n",
        "### BEGIN SOLUTION\n",
        "\n",
        "def average_los(encounters):\n",
        "    \"\"\"\n",
        "    This function calculates the average length of stay (LOS) for the encounters in the provided dictionary.\n",
        "\n",
        "    Parameters:\n",
        "    encounters (dict): A dictionary containing encounter data\n",
        "\n",
        "    Returns:\n",
        "    float: The average LOS rounded to 2 decimal places\n",
        "\n",
        "    Examples:\n",
        "    >>> average_los({\n",
        "    ...     \"E1234\": { \"admit\": date(2019,1,3), \"diagnosis\": \"COPD\", \"discharge\": date(2019,1,8) },\n",
        "    ...     \"E8342\": { \"admit\": date(2019,1,5), \"diagnosis\": \"Hypertension\", \"discharge\": date(2019,1,9) },\n",
        "    ...     \"E9231\": { \"admit\": date(2019,1,12), \"diagnosis\": \"Anxiety\", \"discharge\": date(2019,1,13) }\n",
        "    ... })\n",
        "    4.33\n",
        "    \"\"\"\n",
        "    total_los = 0\n",
        "    count = 0\n",
        "\n",
        "    for encid, visit in encounters.items():\n",
        "        if visit['diagnosis'] == \"Observation\":\n",
        "            continue\n",
        "        los = visit['discharge'].toordinal() - visit['admit'].toordinal()\n",
        "        if los == 0:\n",
        "            continue\n",
        "        total_los += los\n",
        "        count += 1\n",
        "\n",
        "    if count == 0:\n",
        "        return 0.0\n",
        "\n",
        "    avg_los = total_los / count\n",
        "    return round(avg_los, 2)\n",
        "\n",
        "# Sample encounters data\n",
        "encounters = {\n",
        "    \"E1234\": { \"admit\": date(2019,1,3), \"diagnosis\": \"COPD\", \"discharge\": date(2019,1,8) },\n",
        "    \"E8342\": { \"admit\": date(2019,1,5), \"diagnosis\": \"Hypertension\", \"discharge\": date(2019,1,9) },\n",
        "    \"E9231\": { \"admit\": date(2019,1,12), \"diagnosis\": \"Anxiety\", \"discharge\": date(2019,1,13) },\n",
        "    \"E8333\": { \"admit\": date(2019,1,15), \"diagnosis\": \"Observation\", \"discharge\": date(2019,1,16) },\n",
        "    \"E3342\": { \"admit\": date(2019,1,4), \"diagnosis\": \"Anxiety\", \"discharge\": date(2019,1,4)}\n",
        "}\n",
        "\n",
        "# Test case\n",
        "assert(round(average_los(encounters), 2) == 3.33)\n",
        "\n",
        "# Run doctest\n",
        "import doctest\n",
        "doctest.run_docstring_examples(average_los, globals(), verbose=True)\n",
        "\n",
        "### END SOLUTION"
      ]
    },
    {
      "cell_type": "markdown",
      "source": [
        "Pseudocode:\n",
        "    FUNCTION average_los(encounters: DICTIONARY) -> FLOAT:\n",
        "    SET total_los TO 0\n",
        "    SET count TO 0\n",
        "\n",
        "    FOR EACH visit IN encounters:\n",
        "        IF visit['diagnosis'] IS \"Observation\" OR difference between visit['discharge'] and visit['admit'] IS 0 THEN:\n",
        "            CONTINUE\n",
        "        END IF\n",
        "\n",
        "        INCREMENT total_los BY difference between visit['discharge'] and visit['admit']\n",
        "        INCREMENT count\n",
        "\n",
        "    END FOR\n",
        "\n",
        "    IF count IS 0 THEN:\n",
        "        RETURN 0.0\n",
        "    END IF\n",
        "\n",
        "    SET avg_los TO total_los DIVIDED BY count\n",
        "    RETURN avg_los rounded to 2 decimal places\n",
        "    END FUNCTION\n"
      ],
      "metadata": {
        "id": "rEcKsUf2Mswh"
      }
    },
    {
      "cell_type": "markdown",
      "source": [
        "Docstring:\n",
        "\n",
        "This function calculates the average length of stay (LOS) for the encounters in the provided dictionary, excluding encounters with a diagnosis of \"Observation\" or a length of stay of 0 days.\n",
        "\n",
        "Parameters:\n",
        "encounters (dict): A dictionary containing encounter data with keys \"admit\" (admission date), \"diagnosis\" (diagnosis string), and \"discharge\" (discharge date).\n",
        "\n",
        "Returns:\n",
        "float: The average LOS rounded to 2 decimal places. Returns 0.0 if no valid encounters are provided.\n",
        "\n",
        "Examples:\n",
        ">>> average_los({\n",
        "...     \"E1234\": { \"admit\": date(2019,1,3), \"diagnosis\": \"COPD\", \"discharge\": date(2019,1,8) },\n",
        "...     \"E8342\": { \"admit\": date(2019,1,5), \"diagnosis\": \"Hypertension\", \"discharge\": date(2019,1,9) },\n",
        "...     \"E9231\": { \"admit\": date(2019,1,12), \"diagnosis\": \"Anxiety\", \"discharge\": date(2019,1,13) }\n",
        "... })\n",
        "4.33\n",
        "\n"
      ],
      "metadata": {
        "id": "IijnTHdRMxxt"
      }
    },
    {
      "cell_type": "code",
      "execution_count": null,
      "metadata": {
        "id": "ne7vFw2Skrlf"
      },
      "outputs": [],
      "source": [
        "from datetime import date\n",
        "encounters = {\n",
        "    \"E1234\": { \"admit\": date(2019,1,3), \"diagnosis\": \"COPD\", \"discharge\": date(2019,1,8) },\n",
        "    \"E8342\": { \"admit\": date(2019,1,5), \"diagnosis\": \"Hypertension\", \"discharge\": date(2019,1,9) },\n",
        "    \"E9231\": { \"admit\": date(2019,1,12), \"diagnosis\": \"Anxiety\", \"discharge\": date(2019,1,13) },\n",
        "    \"E8333\": { \"admit\": date(2019,1,15), \"diagnosis\": \"Observation\", \"discharge\": date(2019,1,16) },\n",
        "    \"E3342\": { \"admit\": date(2019,1,4), \"diagnosis\": \"Anxiety\", \"discharge\": date(2019,1,4)}\n",
        "}\n",
        "\n",
        "assert(round(average_los(encounters),2) == 3.33)"
      ]
    },
    {
      "cell_type": "code",
      "execution_count": null,
      "metadata": {
        "id": "9sXUOz8jkrlf",
        "outputId": "580c9d61-c954-41d8-9daa-6707b0ade46e",
        "colab": {
          "base_uri": "https://localhost:8080/"
        }
      },
      "outputs": [
        {
          "output_type": "stream",
          "name": "stdout",
          "text": [
            "Finding tests in NoName\n",
            "Trying:\n",
            "    average_los({\n",
            "        \"E1234\": { \"admit\": date(2019,1,3), \"diagnosis\": \"COPD\", \"discharge\": date(2019,1,8) },\n",
            "        \"E8342\": { \"admit\": date(2019,1,5), \"diagnosis\": \"Hypertension\", \"discharge\": date(2019,1,9) },\n",
            "        \"E9231\": { \"admit\": date(2019,1,12), \"diagnosis\": \"Anxiety\", \"discharge\": date(2019,1,13) }\n",
            "    })\n",
            "Expecting:\n",
            "    4.33\n",
            "**********************************************************************\n",
            "File \"__main__\", line 16, in NoName\n",
            "Failed example:\n",
            "    average_los({\n",
            "        \"E1234\": { \"admit\": date(2019,1,3), \"diagnosis\": \"COPD\", \"discharge\": date(2019,1,8) },\n",
            "        \"E8342\": { \"admit\": date(2019,1,5), \"diagnosis\": \"Hypertension\", \"discharge\": date(2019,1,9) },\n",
            "        \"E9231\": { \"admit\": date(2019,1,12), \"diagnosis\": \"Anxiety\", \"discharge\": date(2019,1,13) }\n",
            "    })\n",
            "Expected:\n",
            "    4.33\n",
            "Got:\n",
            "    3.33\n"
          ]
        }
      ],
      "source": [
        "import doctest\n",
        "doctest.run_docstring_examples(average_los, globals(), verbose=True)"
      ]
    },
    {
      "cell_type": "markdown",
      "metadata": {
        "id": "M3wuIdjpkrlf"
      },
      "source": [
        "---\n",
        "\n",
        "### 25.5 Celsius to Farenheit\n",
        "\n",
        "Write your own function called `c_to_f` that converts degrees Celsius to degrees Farenheit.  Include in your solution a series of doc tests that can verify the conversion using inputs of 100, 0, and 37 degrees Celsius"
      ]
    },
    {
      "cell_type": "code",
      "execution_count": null,
      "metadata": {
        "id": "hlhxKGMqkrlf",
        "outputId": "8f3c4742-fcc0-4705-edb8-fbcb8397bfd5",
        "colab": {
          "base_uri": "https://localhost:8080/"
        }
      },
      "outputs": [
        {
          "output_type": "stream",
          "name": "stdout",
          "text": [
            "Finding tests in NoName\n",
            "Trying:\n",
            "    c_to_f(100)\n",
            "Expecting:\n",
            "    212.0\n",
            "ok\n",
            "Trying:\n",
            "    c_to_f(0)\n",
            "Expecting:\n",
            "    32.0\n",
            "ok\n",
            "Trying:\n",
            "    c_to_f(37)\n",
            "Expecting:\n",
            "    98.6\n",
            "**********************************************************************\n",
            "File \"__main__\", line 17, in NoName\n",
            "Failed example:\n",
            "    c_to_f(37)\n",
            "Expected:\n",
            "    98.6\n",
            "Got:\n",
            "    98.60000000000001\n"
          ]
        }
      ],
      "source": [
        "### BEGIN SOLUTION\n",
        "def c_to_f(temp_c):\n",
        "    \"\"\"\n",
        "    This function converts a given temperature in degrees Celsius to degrees Fahrenheit.\n",
        "\n",
        "    Parameters:\n",
        "    temp_c (float): Temperature in degrees Celsius\n",
        "\n",
        "    Returns:\n",
        "    float: Temperature in degrees Fahrenheit\n",
        "\n",
        "    Examples:\n",
        "    >>> c_to_f(100)\n",
        "    212.0\n",
        "    >>> c_to_f(0)\n",
        "    32.0\n",
        "    >>> c_to_f(37)\n",
        "    98.6\n",
        "    \"\"\"\n",
        "    temp_f = (9/5 * temp_c) + 32  # Apply the conversion formula\n",
        "    return temp_f\n",
        "\n",
        "# Run doctest\n",
        "import doctest\n",
        "doctest.run_docstring_examples(c_to_f, globals(), verbose=True)\n",
        "\n",
        "### END SOLUTION"
      ]
    },
    {
      "cell_type": "markdown",
      "source": [
        "Pseudocode:\n",
        "\n",
        "    FUNCTION c_to_f(temp_c: FLOAT) -> FLOAT:\n",
        "    SET temp_f TO (9/5 MULTIPLIED BY temp_c) PLUS 32\n",
        "    RETURN temp_f\n",
        "    END FUNCTION\n"
      ],
      "metadata": {
        "id": "FXI4WymIM2SI"
      }
    },
    {
      "cell_type": "markdown",
      "source": [
        "Doctsring:\n",
        "\n",
        "This function converts a given temperature in degrees Celsius to degrees Fahrenheit.\n",
        "\n",
        "Parameters:\n",
        "temp_c (float): Temperature in degrees Celsius.\n",
        "\n",
        "Returns:\n",
        "float: The equivalent temperature in degrees Fahrenheit.\n",
        "\n",
        "Examples:\n",
        ">>> c_to_f(100)\n",
        "212.0\n",
        ">>> c_to_f(0)\n",
        "32.0\n",
        ">>> c_to_f(37)\n",
        "98.6\n"
      ],
      "metadata": {
        "id": "PUCcbUT8M7I8"
      }
    },
    {
      "cell_type": "code",
      "execution_count": null,
      "metadata": {
        "id": "DbT2-X6_krlf",
        "outputId": "5b7306d9-29f3-4195-cb2f-e13c59b39fe9",
        "colab": {
          "base_uri": "https://localhost:8080/"
        }
      },
      "outputs": [
        {
          "output_type": "stream",
          "name": "stdout",
          "text": [
            "Finding tests in NoName\n",
            "Trying:\n",
            "    c_to_f(100)\n",
            "Expecting:\n",
            "    212.0\n",
            "ok\n",
            "Trying:\n",
            "    c_to_f(0)\n",
            "Expecting:\n",
            "    32.0\n",
            "ok\n",
            "Trying:\n",
            "    c_to_f(37)\n",
            "Expecting:\n",
            "    98.6\n",
            "**********************************************************************\n",
            "File \"__main__\", line 17, in NoName\n",
            "Failed example:\n",
            "    c_to_f(37)\n",
            "Expected:\n",
            "    98.6\n",
            "Got:\n",
            "    98.60000000000001\n"
          ]
        }
      ],
      "source": [
        "import doctest\n",
        "doctest.run_docstring_examples(c_to_f, globals(), verbose=True)"
      ]
    },
    {
      "cell_type": "code",
      "execution_count": null,
      "metadata": {
        "id": "ydrqtCC7krlf"
      },
      "outputs": [],
      "source": []
    },
    {
      "cell_type": "markdown",
      "metadata": {
        "id": "GLRz6oDzkrlf"
      },
      "source": [
        "---\n",
        "\n",
        "## Check your work above\n",
        "\n",
        "If you didn't get them all correct, take a few minutes to think through those that aren't correct.\n",
        "\n",
        "\n",
        "## Submitting Your Work\n",
        "\n",
        "In order to submit your work, you'll need to use the `git` command line program to **add** your homework file (this file) to your local repository, **commit** your changes to your local repository, and then **push** those changes up to github.com.  From there, I'll be able to **pull** the changes down and do my grading.  I'll provide some feedback, **commit** and **push** my comments back to you.  Next week, I'll show you how to **pull** down my comments.\n",
        "\n",
        "First run through everything one last time and submit your work:\n",
        "1. Use the `Kernel` -> `Restart Kernel and Run All Cells` menu option to run everything from top to bottom and stop here.\n",
        "2. Then open a new command line by clicking the `+` icon above the file list and chosing `Terminal`\n",
        "3. At the command line in the new Terminal, follow these steps:\n",
        "  1. Change directories to your project folder and the week03 subfolder (`cd <folder name>`)\n",
        "  2. Make sure your project folders are up to date with github.com (`git pull`)\n",
        "  3. Add the homework files for this week (`git add <file name>`)\n",
        "  4. Commit your changes (`git commit -a -m \"message\"`)\n",
        "  5. Push your changes (`git push`)\n",
        "  \n",
        "If anything fails along the way with this submission part of the process, let me know.  I'll help you troubleshoort."
      ]
    },
    {
      "cell_type": "code",
      "source": [],
      "metadata": {
        "id": "UBnySBpUsrre"
      },
      "execution_count": null,
      "outputs": []
    }
  ],
  "metadata": {
    "celltoolbar": "Create Assignment",
    "kernelspec": {
      "display_name": "Python 3",
      "language": "python",
      "name": "python3"
    },
    "language_info": {
      "codemirror_mode": {
        "name": "ipython",
        "version": 3
      },
      "file_extension": ".py",
      "mimetype": "text/x-python",
      "name": "python",
      "nbconvert_exporter": "python",
      "pygments_lexer": "ipython3",
      "version": "3.6.7"
    },
    "colab": {
      "provenance": [],
      "include_colab_link": true
    }
  },
  "nbformat": 4,
  "nbformat_minor": 0
}